{
  "nbformat": 4,
  "nbformat_minor": 0,
  "metadata": {
    "colab": {
      "provenance": [],
      "gpuType": "T4",
      "authorship_tag": "ABX9TyPpjY/j7T0mgamHN6cb2fS1",
      "include_colab_link": true
    },
    "kernelspec": {
      "name": "python3",
      "display_name": "Python 3"
    },
    "language_info": {
      "name": "python"
    },
    "accelerator": "GPU"
  },
  "cells": [
    {
      "cell_type": "markdown",
      "metadata": {
        "id": "view-in-github",
        "colab_type": "text"
      },
      "source": [
        "<a href=\"https://colab.research.google.com/github/keithfernandez0/AI-projects/blob/main/src/federated_learning/tensorflow_test_environment.ipynb\" target=\"_parent\"><img src=\"https://colab.research.google.com/assets/colab-badge.svg\" alt=\"Open In Colab\"/></a>"
      ]
    },
    {
      "cell_type": "markdown",
      "source": [
        "# Federated Learning Research Project: Kean University, Spring 2024\n",
        "## Authors: Keith Fernandez, Dr. Bin Hu, Dr. Daehan Kwak\n",
        "### Links:\n",
        "\n",
        "\n",
        "1.   [Weekly Meeting Schedule & Summary Document](https://docs.google.com/document/d/1YWZ8bfra6xjUQdf0sjmYMRDVvtZvgLAmkiINDndAP5k/edit#heading=h.rzvzrn7tc2q7)\n",
        "2.   [Literature Review Packet](https://)\n",
        "3.   [Codebase Testing / Compression Planning Review Packet](https://docs.google.com/document/d/1gWcF75IraJbcPPBJYYnoGve5uyfv3jo_yVFQHJbi0a0/edit#heading=h.1sbkr0ejpc52)\n",
        "\n",
        "---\n",
        "\n",
        "*   Prelimaries: Discuss time scale and end goal. Wishing to be published in a localized journal / upgrading from conferences.\n",
        "*   Week 1: Literature review, discussion of papers, overview\n",
        "*   Week 2: Finding and discussing potential codebases to be used, what compression / pruning algorithms are best.\n",
        "*   Week 3: Testing of coding environment, verifying modules run in Colab notebook.\n",
        "\n"
      ],
      "metadata": {
        "id": "-7K2BOQwDh6E"
      }
    },
    {
      "cell_type": "markdown",
      "source": [],
      "metadata": {
        "id": "Z_aDVR6ZDepm"
      }
    }
  ]
}