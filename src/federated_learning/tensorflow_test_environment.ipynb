{
  "nbformat": 4,
  "nbformat_minor": 0,
  "metadata": {
    "colab": {
      "provenance": [],
      "gpuType": "T4",
      "authorship_tag": "ABX9TyOUMYVfLtCYhYhEa7OXsnoB",
      "include_colab_link": true
    },
    "kernelspec": {
      "name": "python3",
      "display_name": "Python 3"
    },
    "language_info": {
      "name": "python"
    }
  },
  "cells": [
    {
      "cell_type": "markdown",
      "metadata": {
        "id": "view-in-github",
        "colab_type": "text"
      },
      "source": [
        "<a href=\"https://colab.research.google.com/github/keithfernandez0/AI-projects/blob/main/src/federated_learning/tensorflow_test_environment.ipynb\" target=\"_parent\"><img src=\"https://colab.research.google.com/assets/colab-badge.svg\" alt=\"Open In Colab\"/></a>"
      ]
    },
    {
      "cell_type": "markdown",
      "source": [
        "# Federated Learning Research Project: Kean University, Spring 2024\n",
        "## Authors: Keith Fernandez, Dr. Bin Hu, Dr. Daehan Kwak\n",
        "### Links:\n",
        "\n",
        "\n",
        "1.   [Weekly Meeting Schedule & Summary Document](https://docs.google.com/document/d/1YWZ8bfra6xjUQdf0sjmYMRDVvtZvgLAmkiINDndAP5k/edit#heading=h.rzvzrn7tc2q7)\n",
        "2.   [Literature Review Packet](https://)\n",
        "3.   [Codebase Testing / Compression Planning Review Packet](https://docs.google.com/document/d/1gWcF75IraJbcPPBJYYnoGve5uyfv3jo_yVFQHJbi0a0/edit#heading=h.1sbkr0ejpc52)\n",
        "\n",
        "---\n",
        "\n",
        "*   Prelimaries: Discuss time scale and end goal. Wishing to be published in a localized journal / upgrading from conferences.\n",
        "*   Week 1: Literature review, discussion of papers, overview\n",
        "*   Week 2: Finding and discussing potential codebases to be used, what compression / pruning algorithms are best.\n",
        "*   Week 3: Testing of coding environment, verifying modules run in Colab notebook.\n",
        "\n"
      ],
      "metadata": {
        "id": "-7K2BOQwDh6E"
      }
    },
    {
      "cell_type": "markdown",
      "source": [
        "# TO-DO\n",
        "\n",
        "\n",
        "- [x] Create Google Colab notebook.\n",
        "- [x] Have Google Colab runtime default to external TPU/GPU.\n",
        "- [x] Provide basic synopsis / links to planning sheets.\n",
        "- [x] Credit project authors / research advisors.\n",
        "- [x] Sync project to [GitHub repository.](https://github.com/keithfernandez0/AI-projects/blob/main/src/federated_learning/tensorflow_test_environment.ipynb)\n",
        "  - [x] Authenticate GitHub credentials on local machine with `git-cli`\n",
        "  - [x] Verify remote push / git commits are working.\n",
        "- Import relevant libraries:\n",
        "  - [x] TensorFlow\n",
        "  - [x] TensorFlow Federated\n",
        "  - [x] TensorFlow Model Optimization ToolKit\n",
        "  - Microsoft Model Compression ToolKit\n",
        "- Create simple test network (3x4 depth)\n",
        "\n",
        "\n"
      ],
      "metadata": {
        "id": "L-b7DsQrRiLj"
      }
    },
    {
      "cell_type": "code",
      "source": [
        "!pip install --upgrade tensorflow tensorflow_federated tensorflow_model_optimization tf_keras matplotlib numpy\n",
        "\n",
        "import collections\n",
        "import tf_keras as keras\n",
        "import tensorflow as tf\n",
        "import tensorflow_federated as tff\n",
        "import tensorflow_model_optimization as tfmot\n",
        "\n",
        "import matplotlib.pyplot as plt\n",
        "import numpy as np"
      ],
      "metadata": {
        "id": "Ts6u544iTbmv"
      },
      "execution_count": null,
      "outputs": []
    },
    {
      "cell_type": "code",
      "source": [
        "!pip show tensorflow\n",
        "!pip show tensorflow_federated\n",
        "!python3 --version"
      ],
      "metadata": {
        "id": "5V2WsS1Fb-zY"
      },
      "execution_count": null,
      "outputs": []
    },
    {
      "cell_type": "markdown",
      "source": [
        "## Verification of modules working\n",
        "\n",
        "The following tests will be done to individually verify each TensorFlow package on a standalone basis.\n",
        "\n",
        "\n",
        "*   `tensorflow` by itself\n",
        "*   `tensorflow` with `tensorflow_federated`\n",
        "*   `tensorflow` with `tensorflow_model_optimization`\n",
        "\n",
        "We will verify these packages work individually and then move on to combining them to a larger scale network for our research.\n",
        "\n"
      ],
      "metadata": {
        "id": "21aTSY-75hyD"
      }
    },
    {
      "cell_type": "code",
      "source": [
        "# ==============================================================================\n",
        "# Testing base TensorFlow\n",
        "# STATUS: VERIFIED\n",
        "# ==============================================================================\n",
        "\n",
        "def create_base_tf_network():\n",
        "    model = tf.keras.Sequential([\n",
        "        tf.keras.layers.Dense(10, activation='relu', input_shape=(784,)),\n",
        "        tf.keras.layers.Dense(10, activation='relu'),\n",
        "        tf.keras.layers.Dense(10, activation='softmax')\n",
        "    ])\n",
        "    return model\n",
        "\n",
        "# Create an instance of the test network, print summary\n",
        "\n",
        "base_tf_network = create_base_tf_network()\n",
        "base_tf_network.summary()"
      ],
      "metadata": {
        "colab": {
          "base_uri": "https://localhost:8080/"
        },
        "id": "NDqA8cTi6csk",
        "outputId": "a6e253fb-1d11-474e-f589-76ac9e43289f"
      },
      "execution_count": 16,
      "outputs": [
        {
          "output_type": "stream",
          "name": "stdout",
          "text": [
            "Model: \"sequential_2\"\n",
            "_________________________________________________________________\n",
            " Layer (type)                Output Shape              Param #   \n",
            "=================================================================\n",
            " dense_6 (Dense)             (None, 10)                7850      \n",
            "                                                                 \n",
            " dense_7 (Dense)             (None, 10)                110       \n",
            "                                                                 \n",
            " dense_8 (Dense)             (None, 10)                110       \n",
            "                                                                 \n",
            "=================================================================\n",
            "Total params: 8070 (31.52 KB)\n",
            "Trainable params: 8070 (31.52 KB)\n",
            "Non-trainable params: 0 (0.00 Byte)\n",
            "_________________________________________________________________\n"
          ]
        }
      ]
    },
    {
      "cell_type": "code",
      "source": [
        "# ==============================================================================\n",
        "# Testing base TensorFlow Federated\n",
        "# STATUS: VERIFIED\n",
        "# ==============================================================================\n",
        "\n",
        "def create_tf_federated_network():\n",
        "    input_spec = [\n",
        "        (tf.TensorSpec(dtype=tf.float32, shape=(None, 784)), tf.TensorSpec(dtype=tf.int32, shape=(None,)))\n",
        "    ]\n",
        "    output_spec = tff.TensorType(np.int32, shape=(None,))\n",
        "\n",
        "    def model_fn():\n",
        "        model = tf.keras.Sequential([\n",
        "            tf.keras.layers.Dense(10, activation='relu', input_shape=(784,)),\n",
        "            tf.keras.layers.Dense(10, activation='relu'),\n",
        "            tf.keras.layers.Dense(10, activation='softmax')\n",
        "        ])\n",
        "\n",
        "        return tff.learning.models.from_keras_model(\n",
        "            model,\n",
        "            input_spec=input_spec[0],\n",
        "            loss=tf.keras.losses.SparseCategoricalCrossentropy(),\n",
        "            metrics=[tf.keras.metrics.SparseCategoricalAccuracy()]\n",
        "        )\n",
        "\n",
        "    # Define the client and server optimizers\n",
        "    client_optimizer_fn = lambda: tf.keras.optimizers.SGD(learning_rate=0.1)\n",
        "    server_optimizer_fn = lambda: tf.keras.optimizers.SGD(learning_rate=1.0)\n",
        "\n",
        "    # Build the federated averaging process\n",
        "    return tff.learning.algorithms.build_weighted_fed_avg(\n",
        "        model_fn,\n",
        "        client_optimizer_fn=client_optimizer_fn,\n",
        "        server_optimizer_fn=server_optimizer_fn\n",
        "    )\n",
        "\n",
        "# Create an instance of the test network\n",
        "tf_federated_network = create_tf_federated_network()\n",
        "print(tf_federated_network)\n"
      ],
      "metadata": {
        "colab": {
          "base_uri": "https://localhost:8080/"
        },
        "id": "weOSQzAu6qAr",
        "outputId": "5ca3a3e1-6998-4a0f-b5c9-f1509c3a9307"
      },
      "execution_count": 19,
      "outputs": [
        {
          "output_type": "stream",
          "name": "stdout",
          "text": [
            "<tensorflow_federated.python.learning.templates.learning_process.LearningProcess object at 0x78f4c71811e0>\n"
          ]
        }
      ]
    },
    {
      "cell_type": "code",
      "source": [
        "# ==============================================================================\n",
        "# Testing base TensorFlow Model Optimization Toolkit\n",
        "# STATUS: VERIFIED\n",
        "# ==============================================================================\n",
        "\n",
        "def create_tf_model_optimization_network():\n",
        "    model = tf.keras.Sequential([\n",
        "        tf.keras.layers.Dense(10, activation='relu', input_shape=(784,)),\n",
        "        tf.keras.layers.Dense(10, activation='relu'),\n",
        "        tf.keras.layers.Dense(10, activation='softmax')\n",
        "    ])\n",
        "    return model\n",
        "\n",
        "# Create an instance of the test network\n",
        "tf_model_optimization_network = create_tf_model_optimization_network()\n",
        "\n",
        "# Prune the model\n",
        "pruning_params = {\n",
        "    'pruning_schedule': tfmot.sparsity.keras.PolynomialDecay(initial_sparsity=0.50,\n",
        "                                                              final_sparsity=0.80,\n",
        "                                                              begin_step=2000,\n",
        "                                                              end_step=4000)\n",
        "}\n",
        "\n",
        "pruned_model = tfmot.sparsity.keras.prune_low_magnitude(tf_model_optimization_network, **pruning_params)\n",
        "\n",
        "pruned_model.summary()\n"
      ],
      "metadata": {
        "colab": {
          "base_uri": "https://localhost:8080/"
        },
        "id": "WFcz_JTblUyr",
        "outputId": "809ecc16-8796-42db-9a4b-dcbc23c50afa"
      },
      "execution_count": 20,
      "outputs": [
        {
          "output_type": "stream",
          "name": "stdout",
          "text": [
            "Model: \"sequential_3\"\n",
            "_________________________________________________________________\n",
            " Layer (type)                Output Shape              Param #   \n",
            "=================================================================\n",
            " prune_low_magnitude_dense_  (None, 10)                15692     \n",
            " 9 (PruneLowMagnitude)                                           \n",
            "                                                                 \n",
            " prune_low_magnitude_dense_  (None, 10)                212       \n",
            " 10 (PruneLowMagnitude)                                          \n",
            "                                                                 \n",
            " prune_low_magnitude_dense_  (None, 10)                212       \n",
            " 11 (PruneLowMagnitude)                                          \n",
            "                                                                 \n",
            "=================================================================\n",
            "Total params: 16116 (62.96 KB)\n",
            "Trainable params: 8070 (31.52 KB)\n",
            "Non-trainable params: 8046 (31.44 KB)\n",
            "_________________________________________________________________\n"
          ]
        }
      ]
    }
  ]
}